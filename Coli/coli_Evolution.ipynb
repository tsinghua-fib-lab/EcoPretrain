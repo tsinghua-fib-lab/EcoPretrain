{
 "cells": [
  {
   "cell_type": "code",
   "execution_count": null,
   "metadata": {},
   "outputs": [],
   "source": [
    "from omegaconf import OmegaConf\n",
    "\n",
    "conf = OmegaConf.load('coli.yaml')\n",
    "conf.log_dir = conf.log_dir + f'd{conf.model.feature_dim}/'"
   ]
  },
  {
   "cell_type": "markdown",
   "metadata": {},
   "source": [
    "# SVM + original data"
   ]
  },
  {
   "cell_type": "code",
   "execution_count": null,
   "metadata": {},
   "outputs": [
    {
     "data": {
      "text/plain": [
       "((9, 27, 7), (9, 27, 7), (8, 27, 7), (8, 27, 7))"
      ]
     },
     "execution_count": 17,
     "metadata": {},
     "output_type": "execute_result"
    }
   ],
   "source": [
    "import numpy as np\n",
    "\n",
    "from dataset import Dataset_coli\n",
    "original_traj = Dataset_coli(conf, test=True).test_data # (N, T, L)\n",
    "\n",
    "np.random.seed(4)\n",
    "shuffle_idx = np.random.permutation(original_traj.shape[0])\n",
    "X_train = original_traj[shuffle_idx][:9]\n",
    "X_test = original_traj[shuffle_idx][9:]\n",
    "y_train = original_traj[shuffle_idx][:9]\n",
    "y_test = original_traj[shuffle_idx][9:]\n",
    "\n",
    "X_train.shape, y_train.shape, X_test.shape, y_test.shape"
   ]
  },
  {
   "cell_type": "code",
   "execution_count": null,
   "metadata": {},
   "outputs": [
    {
     "name": "stdout",
     "output_type": "stream",
     "text": [
      "(8, 27, 7)\n"
     ]
    }
   ],
   "source": [
    "from sklearn.svm import SVR\n",
    "from sklearn.multioutput import MultiOutputRegressor\n",
    "\n",
    "# SVR\n",
    "from sklearn.multioutput import MultiOutputRegressor\n",
    "\n",
    "predictor = MultiOutputRegressor(SVR(kernel='rbf'))\n",
    "\n",
    "X_train_ = X_train[:, :-1].reshape(-1, conf.coli.loci)\n",
    "y_train_ = y_train[:, 1:].reshape(-1, conf.coli.loci)\n",
    "predictor.fit(X_train_, y_train_)\n",
    "\n",
    "ml_predictions = np.zeros_like(X_test)\n",
    "ml_predictions[:, 0] = X_test[:, 0]\n",
    "for t in range(1, conf.coli.steps):\n",
    "    ml_predictions[:, t] = predictor.predict(ml_predictions[:, t-1])\n",
    "print(ml_predictions.shape)"
   ]
  },
  {
   "cell_type": "code",
   "execution_count": null,
   "metadata": {},
   "outputs": [],
   "source": [
    "from utilis import compute_metrics\n",
    "metrics_noembed = compute_metrics(y_test[:, 1:], ml_predictions[:, 1:]) # N×(T-1)×(r2, nmse, mape)"
   ]
  },
  {
   "cell_type": "markdown",
   "metadata": {},
   "source": [
    "# SVR + Neural embedding"
   ]
  },
  {
   "cell_type": "code",
   "execution_count": null,
   "metadata": {},
   "outputs": [
    {
     "data": {
      "text/plain": [
       "<All keys matched successfully>"
      ]
     },
     "execution_count": 20,
     "metadata": {},
     "output_type": "execute_result"
    }
   ],
   "source": [
    "import torch\n",
    "import warnings; warnings.filterwarnings(\"ignore\")\n",
    "\n",
    "from model import EvolutionDynamicsModel\n",
    "\n",
    "L = conf.coli.loci\n",
    "input_channels = 1\n",
    "feature_dim = conf.model.feature_dim\n",
    "num_heads = conf.model.num_heads\n",
    "num_layers = conf.model.num_layers\n",
    "codebook_size = conf.model.K\n",
    "pos_encoding_type = conf.model.pos_encoding_type\n",
    "use_rotation = conf.model.use_rotation\n",
    "code_init = conf.model.code_init\n",
    "ae = EvolutionDynamicsModel(feature_dim, L, num_heads, num_layers, pos_encoding_type=pos_encoding_type, codebook_size=codebook_size, use_rotation=use_rotation, code_init=code_init).to(conf.device)\n",
    "ae.load_state_dict(torch.load(conf.log_dir + f'checkpoints/pretrain_{conf.train.max_epoch}.pth', map_location=conf.device))"
   ]
  },
  {
   "cell_type": "code",
   "execution_count": null,
   "metadata": {},
   "outputs": [
    {
     "data": {
      "text/plain": [
       "((9, 27, 64), (8, 27, 64))"
      ]
     },
     "execution_count": 21,
     "metadata": {},
     "output_type": "execute_result"
    }
   ],
   "source": [
    "batch_size = 1\n",
    "for i in range(0, X_train.shape[0]//batch_size):\n",
    "    x = torch.tensor(X_train[i*batch_size:(i+1)*batch_size]).float().to(conf.device)\n",
    "    with torch.no_grad():\n",
    "        z = ae.encode(x)[0] # (N, T, D)\n",
    "        z = z.cpu().numpy()\n",
    "        if i == 0:\n",
    "            z_train = z\n",
    "        else:\n",
    "            z_train = np.concatenate([z_train, z], axis=0) # (N, T, D)\n",
    "for i in range(0, X_test.shape[0]//batch_size):\n",
    "    x_ = torch.tensor(X_test[i*batch_size:(i+1)*batch_size]).float().to(conf.device)\n",
    "    with torch.no_grad():\n",
    "        z_ = ae.encode(x_)[0]\n",
    "        z_ = z_.cpu().numpy()\n",
    "        if i == 0:\n",
    "            z_test = z_\n",
    "        else:\n",
    "            z_test = np.concatenate([z_test, z_], axis=0)\n",
    "\n",
    "z_train.shape, z_test.shape"
   ]
  },
  {
   "cell_type": "code",
   "execution_count": null,
   "metadata": {},
   "outputs": [],
   "source": [
    "# SVR\n",
    "from sklearn.multioutput import MultiOutputRegressor\n",
    "\n",
    "predictor = MultiOutputRegressor(SVR(kernel='rbf'))\n",
    "\n",
    "z_train_x = z_train[:, :-1].reshape(-1, conf.model.feature_dim)\n",
    "z_train_y = z_train[:, 1:].reshape(-1, conf.model.feature_dim)\n",
    "predictor.fit(z_train_x, z_train_y)\n",
    "\n",
    "ml_predictions_z = np.zeros_like(z_test)\n",
    "ml_predictions_z[:, 0] = z_test[:, 0]\n",
    "for t in range(1, conf.coli.steps):\n",
    "    ml_predictions_z[:, t] = predictor.predict(ml_predictions_z[:, t-1])"
   ]
  },
  {
   "cell_type": "code",
   "execution_count": null,
   "metadata": {},
   "outputs": [
    {
     "data": {
      "text/plain": [
       "(8, 27, 7)"
      ]
     },
     "execution_count": 23,
     "metadata": {},
     "output_type": "execute_result"
    }
   ],
   "source": [
    "with torch.no_grad():\n",
    "    for i in range(0, X_test.shape[0]//batch_size):\n",
    "        z = torch.tensor(ml_predictions_z[i*batch_size:(i+1)*batch_size]).float().to(conf.device)\n",
    "        x = ae.decode(z)\n",
    "        x = x.cpu().numpy()\n",
    "        if i == 0:\n",
    "            x_pred = x\n",
    "        else:\n",
    "            x_pred = np.concatenate([x_pred, x], axis=0)\n",
    "\n",
    "x_pred.shape"
   ]
  },
  {
   "cell_type": "code",
   "execution_count": null,
   "metadata": {},
   "outputs": [],
   "source": [
    "from utilis import compute_metrics\n",
    "metrics_embed = compute_metrics(y_test[:, 1:], x_pred[:, 1:]) # N×(T-1)×(r2, nmse, mape)"
   ]
  },
  {
   "cell_type": "code",
   "execution_count": 25,
   "metadata": {},
   "outputs": [
    {
     "data": {
      "text/html": [
       "<div>\n",
       "<style scoped>\n",
       "    .dataframe tbody tr th:only-of-type {\n",
       "        vertical-align: middle;\n",
       "    }\n",
       "\n",
       "    .dataframe tbody tr th {\n",
       "        vertical-align: top;\n",
       "    }\n",
       "\n",
       "    .dataframe thead th {\n",
       "        text-align: right;\n",
       "    }\n",
       "</style>\n",
       "<table border=\"1\" class=\"dataframe\">\n",
       "  <thead>\n",
       "    <tr style=\"text-align: right;\">\n",
       "      <th></th>\n",
       "      <th>Day</th>\n",
       "      <th>Embed</th>\n",
       "      <th>R2</th>\n",
       "      <th>NMSE</th>\n",
       "      <th>MAPE</th>\n",
       "    </tr>\n",
       "  </thead>\n",
       "  <tbody>\n",
       "    <tr>\n",
       "      <th>0</th>\n",
       "      <td>2</td>\n",
       "      <td>Yes</td>\n",
       "      <td>0.370348</td>\n",
       "      <td>0.061668</td>\n",
       "      <td>0.227395</td>\n",
       "    </tr>\n",
       "    <tr>\n",
       "      <th>1</th>\n",
       "      <td>2</td>\n",
       "      <td>No</td>\n",
       "      <td>-0.138631</td>\n",
       "      <td>0.111517</td>\n",
       "      <td>0.276512</td>\n",
       "    </tr>\n",
       "    <tr>\n",
       "      <th>2</th>\n",
       "      <td>3</td>\n",
       "      <td>Yes</td>\n",
       "      <td>0.589241</td>\n",
       "      <td>0.051959</td>\n",
       "      <td>0.227162</td>\n",
       "    </tr>\n",
       "    <tr>\n",
       "      <th>3</th>\n",
       "      <td>3</td>\n",
       "      <td>No</td>\n",
       "      <td>0.478006</td>\n",
       "      <td>0.066030</td>\n",
       "      <td>0.202057</td>\n",
       "    </tr>\n",
       "    <tr>\n",
       "      <th>4</th>\n",
       "      <td>4</td>\n",
       "      <td>Yes</td>\n",
       "      <td>-0.609971</td>\n",
       "      <td>0.423113</td>\n",
       "      <td>1.053308</td>\n",
       "    </tr>\n",
       "    <tr>\n",
       "      <th>...</th>\n",
       "      <td>...</td>\n",
       "      <td>...</td>\n",
       "      <td>...</td>\n",
       "      <td>...</td>\n",
       "      <td>...</td>\n",
       "    </tr>\n",
       "    <tr>\n",
       "      <th>411</th>\n",
       "      <td>25</td>\n",
       "      <td>No</td>\n",
       "      <td>-1.588150</td>\n",
       "      <td>0.369446</td>\n",
       "      <td>0.746881</td>\n",
       "    </tr>\n",
       "    <tr>\n",
       "      <th>412</th>\n",
       "      <td>26</td>\n",
       "      <td>Yes</td>\n",
       "      <td>-0.303519</td>\n",
       "      <td>0.295699</td>\n",
       "      <td>0.760251</td>\n",
       "    </tr>\n",
       "    <tr>\n",
       "      <th>413</th>\n",
       "      <td>26</td>\n",
       "      <td>No</td>\n",
       "      <td>-1.147157</td>\n",
       "      <td>0.487076</td>\n",
       "      <td>1.059061</td>\n",
       "    </tr>\n",
       "    <tr>\n",
       "      <th>414</th>\n",
       "      <td>27</td>\n",
       "      <td>Yes</td>\n",
       "      <td>0.265564</td>\n",
       "      <td>0.075766</td>\n",
       "      <td>0.258654</td>\n",
       "    </tr>\n",
       "    <tr>\n",
       "      <th>415</th>\n",
       "      <td>27</td>\n",
       "      <td>No</td>\n",
       "      <td>-1.704952</td>\n",
       "      <td>0.279050</td>\n",
       "      <td>0.620291</td>\n",
       "    </tr>\n",
       "  </tbody>\n",
       "</table>\n",
       "<p>416 rows × 5 columns</p>\n",
       "</div>"
      ],
      "text/plain": [
       "    Day Embed        R2      NMSE      MAPE\n",
       "0     2   Yes  0.370348  0.061668  0.227395\n",
       "1     2    No -0.138631  0.111517  0.276512\n",
       "2     3   Yes  0.589241  0.051959  0.227162\n",
       "3     3    No  0.478006  0.066030  0.202057\n",
       "4     4   Yes -0.609971  0.423113  1.053308\n",
       "..   ..   ...       ...       ...       ...\n",
       "411  25    No -1.588150  0.369446  0.746881\n",
       "412  26   Yes -0.303519  0.295699  0.760251\n",
       "413  26    No -1.147157  0.487076  1.059061\n",
       "414  27   Yes  0.265564  0.075766  0.258654\n",
       "415  27    No -1.704952  0.279050  0.620291\n",
       "\n",
       "[416 rows x 5 columns]"
      ]
     },
     "execution_count": 25,
     "metadata": {},
     "output_type": "execute_result"
    }
   ],
   "source": [
    "import pandas as pd\n",
    "\n",
    "df = pd.DataFrame(columns=['Day', 'Embed', 'R2', 'NMSE', 'MAPE'])\n",
    "for traj_idx in range(metrics_embed.shape[0]):\n",
    "    for step in range(conf.coli.steps-1):\n",
    "        df = df._append({'Day': step+2, 'Embed': 'Yes', 'R2': metrics_embed[traj_idx, step, 0], 'NMSE': metrics_embed[traj_idx, step, 1], 'MAPE': metrics_embed[traj_idx, step, 2]}, ignore_index=True)\n",
    "        df = df._append({'Day': step+2, 'Embed': 'No', 'R2': metrics_noembed[traj_idx, step, 0], 'NMSE': metrics_noembed[traj_idx, step, 1], 'MAPE': metrics_noembed[traj_idx, step, 2]}, ignore_index=True)\n",
    "df"
   ]
  },
  {
   "cell_type": "code",
   "execution_count": 26,
   "metadata": {},
   "outputs": [
    {
     "data": {
      "image/png": "[encoded data removed]",
      "text/plain": [
       "<Figure size 1000x400 with 1 Axes>"
      ]
     },
     "metadata": {},
     "output_type": "display_data"
    }
   ],
   "source": [
    "import os\n",
    "import seaborn as sns\n",
    "import matplotlib.pyplot as plt\n",
    "plt.rcParams.update({'font.size': 16})\n",
    "plt.rcParams.update({'xtick.labelsize': 16})\n",
    "plt.rcParams.update({'ytick.labelsize': 16})\n",
    "plt.rcParams.update({'legend.fontsize': 16})\n",
    "\n",
    "plt.figure(figsize=(10, 4))\n",
    "sns.boxplot(x='Day', y='NMSE', hue='Embed', data=df, width=0.6, palette={\"Yes\": \"salmon\", \"No\": \".75\"})\n",
    "plt.ylim(0., .55)\n",
    "plt.xlabel('Day', fontsize=16)\n",
    "plt.ylabel('NMSE', fontsize=16)\n",
    "plt.xticks(range(1, metrics_embed.shape[1], 2), [f'{i+2}' for i in range(1, metrics_embed.shape[1], 2)], fontsize=16)\n",
    "plt.yticks([0., 0.1, 0.2, 0.3, 0.4, 0.5], fontsize=16)\n",
    "plt.legend(frameon=False, loc='upper left', fontsize=16).set_title('Embed', prop={'size': 16})\n",
    "plt.tight_layout()\n",
    "os.makedirs('figs/fig6', exist_ok=True)\n",
    "plt.savefig('figs/fig6/evo_embed_nmse.pdf', dpi=300)"
   ]
  },
  {
   "cell_type": "markdown",
   "metadata": {},
   "source": [
    "# Embedding dim"
   ]
  },
  {
   "cell_type": "code",
   "execution_count": null,
   "metadata": {},
   "outputs": [
    {
     "name": "stderr",
     "output_type": "stream",
     "text": [
      "100%|██████████| 8/8 [00:02<00:00,  3.03it/s]\n"
     ]
    },
    {
     "data": {
      "text/html": [
       "<div>\n",
       "<style scoped>\n",
       "    .dataframe tbody tr th:only-of-type {\n",
       "        vertical-align: middle;\n",
       "    }\n",
       "\n",
       "    .dataframe tbody tr th {\n",
       "        vertical-align: top;\n",
       "    }\n",
       "\n",
       "    .dataframe thead th {\n",
       "        text-align: right;\n",
       "    }\n",
       "</style>\n",
       "<table border=\"1\" class=\"dataframe\">\n",
       "  <thead>\n",
       "    <tr style=\"text-align: right;\">\n",
       "      <th></th>\n",
       "      <th>Day</th>\n",
       "      <th>Embedding Dimension</th>\n",
       "      <th>R2</th>\n",
       "      <th>NMSE</th>\n",
       "      <th>MAPE</th>\n",
       "    </tr>\n",
       "  </thead>\n",
       "  <tbody>\n",
       "    <tr>\n",
       "      <th>0</th>\n",
       "      <td>2.0</td>\n",
       "      <td>8.0</td>\n",
       "      <td>0.200153</td>\n",
       "      <td>0.078336</td>\n",
       "      <td>0.280389</td>\n",
       "    </tr>\n",
       "    <tr>\n",
       "      <th>1</th>\n",
       "      <td>3.0</td>\n",
       "      <td>8.0</td>\n",
       "      <td>0.484700</td>\n",
       "      <td>0.065183</td>\n",
       "      <td>0.258551</td>\n",
       "    </tr>\n",
       "    <tr>\n",
       "      <th>2</th>\n",
       "      <td>4.0</td>\n",
       "      <td>8.0</td>\n",
       "      <td>0.598959</td>\n",
       "      <td>0.105397</td>\n",
       "      <td>0.553958</td>\n",
       "    </tr>\n",
       "    <tr>\n",
       "      <th>3</th>\n",
       "      <td>5.0</td>\n",
       "      <td>8.0</td>\n",
       "      <td>0.509516</td>\n",
       "      <td>0.148882</td>\n",
       "      <td>0.655770</td>\n",
       "    </tr>\n",
       "    <tr>\n",
       "      <th>4</th>\n",
       "      <td>6.0</td>\n",
       "      <td>8.0</td>\n",
       "      <td>0.580386</td>\n",
       "      <td>0.109965</td>\n",
       "      <td>0.492882</td>\n",
       "    </tr>\n",
       "    <tr>\n",
       "      <th>...</th>\n",
       "      <td>...</td>\n",
       "      <td>...</td>\n",
       "      <td>...</td>\n",
       "      <td>...</td>\n",
       "      <td>...</td>\n",
       "    </tr>\n",
       "    <tr>\n",
       "      <th>1659</th>\n",
       "      <td>23.0</td>\n",
       "      <td>64.0</td>\n",
       "      <td>0.067940</td>\n",
       "      <td>0.126098</td>\n",
       "      <td>0.330932</td>\n",
       "    </tr>\n",
       "    <tr>\n",
       "      <th>1660</th>\n",
       "      <td>24.0</td>\n",
       "      <td>64.0</td>\n",
       "      <td>-0.029556</td>\n",
       "      <td>0.160878</td>\n",
       "      <td>0.363215</td>\n",
       "    </tr>\n",
       "    <tr>\n",
       "      <th>1661</th>\n",
       "      <td>25.0</td>\n",
       "      <td>64.0</td>\n",
       "      <td>-0.083612</td>\n",
       "      <td>0.154680</td>\n",
       "      <td>0.353744</td>\n",
       "    </tr>\n",
       "    <tr>\n",
       "      <th>1662</th>\n",
       "      <td>26.0</td>\n",
       "      <td>64.0</td>\n",
       "      <td>-0.280285</td>\n",
       "      <td>0.290429</td>\n",
       "      <td>0.760459</td>\n",
       "    </tr>\n",
       "    <tr>\n",
       "      <th>1663</th>\n",
       "      <td>27.0</td>\n",
       "      <td>64.0</td>\n",
       "      <td>0.268860</td>\n",
       "      <td>0.075426</td>\n",
       "      <td>0.255405</td>\n",
       "    </tr>\n",
       "  </tbody>\n",
       "</table>\n",
       "<p>1664 rows × 5 columns</p>\n",
       "</div>"
      ],
      "text/plain": [
       "       Day  Embedding Dimension        R2      NMSE      MAPE\n",
       "0      2.0                  8.0  0.200153  0.078336  0.280389\n",
       "1      3.0                  8.0  0.484700  0.065183  0.258551\n",
       "2      4.0                  8.0  0.598959  0.105397  0.553958\n",
       "3      5.0                  8.0  0.509516  0.148882  0.655770\n",
       "4      6.0                  8.0  0.580386  0.109965  0.492882\n",
       "...    ...                  ...       ...       ...       ...\n",
       "1659  23.0                 64.0  0.067940  0.126098  0.330932\n",
       "1660  24.0                 64.0 -0.029556  0.160878  0.363215\n",
       "1661  25.0                 64.0 -0.083612  0.154680  0.353744\n",
       "1662  26.0                 64.0 -0.280285  0.290429  0.760459\n",
       "1663  27.0                 64.0  0.268860  0.075426  0.255405\n",
       "\n",
       "[1664 rows x 5 columns]"
      ]
     },
     "execution_count": 27,
     "metadata": {},
     "output_type": "execute_result"
    }
   ],
   "source": [
    "import torch\n",
    "from tqdm import tqdm\n",
    "import warnings; warnings.filterwarnings(\"ignore\")\n",
    "\n",
    "from model import EvolutionDynamicsModel\n",
    "\n",
    "df = pd.DataFrame(columns=['Day', 'Embedding Dimension', 'R2', 'NMSE', 'MAPE'])\n",
    "for feature_dim in tqdm([8, 16, 24, 32, 40, 48, 56, 64]):\n",
    "    conf = OmegaConf.load('coli.yaml')\n",
    "    conf.log_dir = conf.log_dir + f'd{feature_dim}/'\n",
    "\n",
    "    L = conf.coli.loci\n",
    "    input_channels = 1\n",
    "    num_heads = conf.model.num_heads\n",
    "    num_layers = conf.model.num_layers\n",
    "    codebook_size = conf.model.K\n",
    "    pos_encoding_type = conf.model.pos_encoding_type\n",
    "    use_rotation = conf.model.use_rotation\n",
    "    code_init = conf.model.code_init\n",
    "    ae = EvolutionDynamicsModel(feature_dim, L, num_heads, num_layers, pos_encoding_type=pos_encoding_type, codebook_size=codebook_size, use_rotation=use_rotation, code_init=code_init).to(conf.device)\n",
    "    ae.load_state_dict(torch.load(conf.log_dir + f'checkpoints/pretrain_{conf.train.max_epoch}.pth', map_location=conf.device))\n",
    "\n",
    "    batch_size = 1\n",
    "    for i in range(0, X_train.shape[0]//batch_size):\n",
    "        x = torch.tensor(X_train[i*batch_size:(i+1)*batch_size]).float().to(conf.device)\n",
    "        with torch.no_grad():\n",
    "            z = ae.encode(x)[0] # (N, T, D)\n",
    "            z = z.cpu().numpy()\n",
    "            if i == 0:\n",
    "                z_train = z\n",
    "            else:\n",
    "                z_train = np.concatenate([z_train, z], axis=0) # (N, T, D)\n",
    "    for i in range(0, X_test.shape[0]//batch_size):\n",
    "        x_ = torch.tensor(X_test[i*batch_size:(i+1)*batch_size]).float().to(conf.device)\n",
    "        with torch.no_grad():\n",
    "            z_ = ae.encode(x_)[0]\n",
    "            z_ = z_.cpu().numpy()\n",
    "            if i == 0:\n",
    "                z_test = z_\n",
    "            else:\n",
    "                z_test = np.concatenate([z_test, z_], axis=0)\n",
    "\n",
    "    # SVR\n",
    "    from sklearn.multioutput import MultiOutputRegressor\n",
    "\n",
    "    predictor = MultiOutputRegressor(SVR(kernel='rbf'))\n",
    "\n",
    "    z_train_x = z_train[:, :-1].reshape(-1, feature_dim)\n",
    "    z_train_y = z_train[:, 1:].reshape(-1, feature_dim)\n",
    "    predictor.fit(z_train_x, z_train_y)\n",
    "\n",
    "    ml_predictions_z = np.zeros_like(z_test)\n",
    "    ml_predictions_z[:, 0] = z_test[:, 0]\n",
    "    for t in range(1, conf.coli.steps):\n",
    "        ml_predictions_z[:, t] = predictor.predict(ml_predictions_z[:, t-1])\n",
    "        \n",
    "    with torch.no_grad():\n",
    "        for i in range(0, X_test.shape[0]//batch_size):\n",
    "            z = torch.tensor(ml_predictions_z[i*batch_size:(i+1)*batch_size]).float().to(conf.device)\n",
    "            x = ae.decode(z)\n",
    "            x = x.cpu().numpy()\n",
    "            if i == 0:\n",
    "                x_pred = x\n",
    "            else:\n",
    "                x_pred = np.concatenate([x_pred, x], axis=0)\n",
    "\n",
    "    metrics_embed = compute_metrics(y_test[:, 1:], x_pred[:, 1:]) # N×(T-1)×(r2, nmse, mape)\n",
    "    \n",
    "    for traj_idx in range(metrics_embed.shape[0]):\n",
    "        for step in range(conf.coli.steps-1):\n",
    "            df = df._append({'Day': step+2, 'Embedding Dimension': feature_dim, 'R2': metrics_embed[traj_idx, step, 0], 'NMSE': metrics_embed[traj_idx, step, 1], 'MAPE': metrics_embed[traj_idx, step, 2]}, ignore_index=True)\n",
    "\n",
    "df"
   ]
  },
  {
   "cell_type": "code",
   "execution_count": 28,
   "metadata": {},
   "outputs": [],
   "source": [
    "for traj_idx in range(metrics_embed.shape[0]):\n",
    "    for step in range(conf.coli.steps-1):\n",
    "        df = df._append({'Day': step+2, 'Embedding Dimension': 'Origin', 'R2': metrics_noembed[traj_idx, step, 0], 'NMSE': metrics_noembed[traj_idx, step, 1], 'MAPE': metrics_noembed[traj_idx, step, 2]}, ignore_index=True)"
   ]
  },
  {
   "cell_type": "code",
   "execution_count": 31,
   "metadata": {},
   "outputs": [
    {
     "data": {
      "image/png": "[encoded data removed]",
      "text/plain": [
       "<Figure size 700x400 with 1 Axes>"
      ]
     },
     "metadata": {},
     "output_type": "display_data"
    }
   ],
   "source": [
    "plt.figure(figsize=(7, 4))\n",
    "sns.boxplot(df, x='Embedding Dimension', y='NMSE', palette='Set2', whis=1.5, linewidth=.6, width=.6)\n",
    "plt.xlabel('Embedding Dimension')\n",
    "plt.ylabel('NMSE')\n",
    "plt.ylim(0., .6)\n",
    "plt.yticks([0., 0.1, 0.2, 0.3, 0.4, 0.5])\n",
    "plt.xticks(range(len([8, 16, 24, 32, 40, 48, 56, 64])+1), [f'{i}' for i in [8, 16, 24, 32, 40, 48, 56, 64]] + ['Origin'])\n",
    "plt.axvline(x=7.5, color='gray', linestyle='--', linewidth=1)\n",
    "plt.tight_layout()\n",
    "plt.savefig('figs/fig6/evo_dim_nmse.pdf', dpi=300)"
   ]
  }
 ],
 "metadata": {
  "kernelspec": {
   "display_name": "base",
   "language": "python",
   "name": "python3"
  },
  "language_info": {
   "codemirror_mode": {
    "name": "ipython",
    "version": 3
   },
   "file_extension": ".py",
   "mimetype": "text/x-python",
   "name": "python",
   "nbconvert_exporter": "python",
   "pygments_lexer": "ipython3",
   "version": "3.11.7"
  }
 },
 "nbformat": 4,
 "nbformat_minor": 2
}
